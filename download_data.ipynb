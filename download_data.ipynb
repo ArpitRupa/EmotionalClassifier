{
 "cells": [
  {
   "cell_type": "code",
   "metadata": {
    "tags": [],
    "cell_id": "00001-6e684e7a-04f6-4e93-967b-709194d23058",
    "deepnote_cell_type": "code"
   },
   "source": "# download ffhq thumbnail dataset. \n# Can change arg to get different downloads\n# use -h for all the options\n!python download_ffhq.py -t",
   "execution_count": null,
   "outputs": []
  },
  {
   "cell_type": "code",
   "metadata": {
    "tags": [],
    "cell_id": "00000-fa8b696a-9474-4c04-b630-c8ca527d63f9",
    "deepnote_cell_type": "code"
   },
   "source": "# extract the images from the download\nimport shutil\nimport os\n\n\n# Function to create new folder if not exists\ndef make_new_folder(folder_name, parent_folder):\n\t\n\t# Path\n\tpath = os.path.join(parent_folder, folder_name)\n\t\n\t# Create the folder\n\t# 'new_folder' in\n\t# parent_folder\n\ttry:\n\t\t# mode of the folder\n\t\tmode = 0o777\n\n\t\t# Create folder\n\t\tos.mkdir(path, mode)\n\texcept OSError as error:\n\t\tprint(error)\n\n# current folder path\n#current_folder = os.getcwd()\ncurrent_folder = '/work/CulturalEmotionClassifer/thumbnails128x128'\n\n# list of folders to be merged\nlist_dir = []\n\nsource = \"/work/CulturalEmotionClassifer/thumbnails128x128\"  \n# get the names of all subfolders\nfiles = os.listdir(source)\nfor subfolder in files:\n    list_dir.append(subfolder)\n\n# enumerate on list_dir to get the\n# content of all the folders ans store\n# it in a dictionary\ncontent_list = {}\nfor index, val in enumerate(list_dir):\n\tpath = os.path.join(current_folder, val)\n\tcontent_list[ list_dir[index] ] = os.listdir(path)\n\n# folder in which all the content will\n# be merged\nmerge_folder = \"ffhq_thumbs\"\n\n# merge_folder path - current_folder\n# + merge_folder\nmerge_folder_path = os.path.join(current_folder, merge_folder)\n# create merge_folder if not exists\nmake_new_folder(merge_folder, current_folder)\n\n# loop through the list of folders\nfor sub_dir in content_list:\n\n\t# loop through the contents of the\n\t# list of folders\n\tfor contents in content_list[sub_dir]:\n\n\t\t# make the path of the content to move\n\t\tpath_to_content = sub_dir + \"/\" + contents\n\n\t\t# make the path with the current folder\n\t\tdir_to_move = os.path.join(current_folder, path_to_content )\n\n\t\t# move the file\n\t\tshutil.move(dir_to_move, merge_folder_path)",
   "execution_count": null,
   "outputs": []
  },
  {
   "cell_type": "code",
   "metadata": {
    "tags": [],
    "cell_id": "00001-c358f8e4-0be9-4198-9467-10aa6223f4a5",
    "deepnote_cell_type": "code"
   },
   "source": "'''\nmove merged folder to working dir and delete download folder\n\nExpected behavior, is to have a folder 'ffhq_thumbs' in\n'work/CulturalEmotionClassifer' with all the images from the download.\n'''\ntarget = '/work/CulturalEmotionClassifer/'\nshutil.move(merge_folder_path,target)\nshutil.rmtree('/work/CulturalEmotionClassifer/thumbnails128x128')",
   "execution_count": null,
   "outputs": []
  },
  {
   "cell_type": "markdown",
   "source": "<a style='text-decoration:none;line-height:16px;display:flex;color:#5B5B62;padding:10px;justify-content:end;' href='https://deepnote.com?utm_source=created-in-deepnote-cell&projectId=7994f515-40bb-4330-b195-ec7f31bf201d' target=\"_blank\">\n<img alt='Created in deepnote.com' style='display:inline;max-height:16px;margin:0px;margin-right:7.5px;' src='data:image/svg+xml;base64,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' > </img>\nCreated in <span style='font-weight:600;margin-left:4px;'>Deepnote</span></a>",
   "metadata": {
    "tags": [],
    "created_in_deepnote_cell": true,
    "deepnote_cell_type": "markdown"
   }
  }
 ],
 "nbformat": 4,
 "nbformat_minor": 2,
 "metadata": {
  "orig_nbformat": 2,
  "deepnote": {
   "is_reactive": false
  },
  "deepnote_notebook_id": "30618144-f27b-4009-8b83-d5a6f3e1028a",
  "deepnote_execution_queue": []
 }
}