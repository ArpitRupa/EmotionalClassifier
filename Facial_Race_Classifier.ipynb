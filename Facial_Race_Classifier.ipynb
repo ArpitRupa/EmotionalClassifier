{
 "cells": [
  {
   "cell_type": "code",
   "metadata": {
    "tags": [],
    "cell_id": "00000-dc441114-d54d-48c0-9fc6-684213ef83c9",
    "deepnote_to_be_reexecuted": false,
    "source_hash": "e91e3033",
    "execution_start": 1636614823996,
    "execution_millis": 10466819,
    "deepnote_cell_type": "code"
   },
   "source": "from deepface import DeepFace\nfrom deepface.detectors import FaceDetector\nfrom deepface.basemodels import VGGFace, OpenFace, Facenet, FbDeepFace\nfrom deepface.commons import functions\nimport os\nimport cv2\n\ndirectory = '../UTKFace'\n\n# print(os.getcwd())\n\n#all of the .jpg files from the 'UTKFace' Directory\n#can use these indicies for indicies of other data objects\ncropped_pictures = os.listdir(directory)\n\n#will be a nested list of photos stored such as:\n#[[filename1, age1, gender1, race1],[filename2, age2, gender2, race2]...]\npictures_list = []\n\n#store results of the deepface algorithm for races\nresults = []\n\ncorrect = 0\n#current iterations\ncount = 0\n#number of faces detected\ntotal_faces = 0\n\n#count number of images\ntotal=0\n\nobj = 0\n\n#dictionary to retrive the race for the images\nrace_dict = {\n    '0': \"white\",\n    '1': \"black\",\n    '2': \"asian\",\n    '3': \"indian\",\n    '4': \"other\"\n}\n\n#is currently detecting approximately 67% of faces + correct races\n\n\n#images are named by age, race, sex\n#specifically [age]_[gender]_[race]_[date&time].jpg\nfor files in cropped_pictures:\n\n    total += 1\n\n    #split by underscores\n    data_items = files.split(\"_\")\n    \n    pictures_list.append([files, data_items[0],data_items[1],data_items[2]])\n\n    image_path =  directory+\"/\"+files\n\n    count += 1\n\n    # if (cropped_pictures.index(files) == 1):\n    #     print (data_items)\n    #     print (pictures_list)\n    #     print(files)\n    #     obj = DeepFace.analyze(img_path = image_path, actions = ['race'])\n    #     race = obj['dominant_race']\n    #     print(obj)\n    \n     \n    temp = DeepFace.analyze(img_path = image_path, detector_backend = \"skip\", actions = ['race'], enforce_detection=False )\n    face_detector = FaceDetector.build_model('opencv')\n\n    try:\n        detected_face,img_region = FaceDetector.detect_face(face_detector, \"opencv\", img = functions.load_image(image_path))\n        # total_faces += 1\n    except:\n        print(\"face not detected for ethnicity. File:\", image_path)\n\n    if (detected_face is not None):\n        total_faces += 1\n\n    obj = temp\n\n    race = obj['dominant_race']\n\n    #these are the only valid races in the photo set\n    if race not in ['white', 'black', 'asian', 'indian']:\n\n        #have to set to other (like Hispanic, Latino, Middle Eastern)\n        race = 'other'\n\n    #append the resulting race from deepface into the results list\n    results.append(race)\n\n    if race_dict.get(data_items[2]) == race:\n        print(\"correct!\")\n        correct += 1\n\n    print(count)\n    # print(race_dict.get(data_items[2]))\n\n    # if count == 10:\n    #     break\n\nprint(correct)\n\nprint (\"accuracy:\", correct/total)\n\n\n    \n\n\n\n\n    ",
   "execution_count": null,
   "outputs": [
    {
     "name": "stdout",
     "text": "correct!\n23142\ncorrect!\n23143\ncorrect!\n23144\ncorrect!\n23145\ncorrect!\n23146\ncorrect!\n23147\ncorrect!\n23148\ncorrect!\n23149\ncorrect!\n23150\ncorrect!\n23151\ncorrect!\n23152\n23153\n23154\ncorrect!\n23155\n23156\ncorrect!\n23157\n23158\n23159\ncorrect!\n23160\ncorrect!\n23161\n23162\ncorrect!\n23163\n23164\n23165\ncorrect!\n23166\n23167\ncorrect!\n23168\n23169\ncorrect!\n23170\ncorrect!\n23171\ncorrect!\n23172\ncorrect!\n23173\ncorrect!\n23174\ncorrect!\n23175\n23176\ncorrect!\n23177\ncorrect!\n23178\ncorrect!\n23179\ncorrect!\n23180\ncorrect!\n23181\ncorrect!\n23182\ncorrect!\n23183\ncorrect!\n23184\ncorrect!\n23185\ncorrect!\n23186\ncorrect!\n23187\ncorrect!\n23188\ncorrect!\n23189\ncorrect!\n23190\ncorrect!\n23191\n23192\ncorrect!\n23193\ncorrect!\n23194\ncorrect!\n23195\ncorrect!\n23196\n23197\ncorrect!\n23198\ncorrect!\n23199\ncorrect!\n23200\ncorrect!\n23201\ncorrect!\n23202\ncorrect!\n23203\ncorrect!\n23204\ncorrect!\n23205\n23206\ncorrect!\n23207\ncorrect!\n23208\ncorrect!\n23209\ncorrect!\n23210\ncorrect!\n23211\ncorrect!\n23212\ncorrect!\n23213\n23214\n23215\ncorrect!\n23216\ncorrect!\n23217\n23218\n23219\ncorrect!\n23220\n23221\ncorrect!\n23222\n23223\ncorrect!\n23224\ncorrect!\n23225\n23226\ncorrect!\n23227\n23228\ncorrect!\n23229\n23230\ncorrect!\n23231\ncorrect!\n23232\ncorrect!\n23233\ncorrect!\n23234\ncorrect!\n23235\ncorrect!\n23236\ncorrect!\n23237\n23238\n23239\ncorrect!\n23240\ncorrect!\n23241\n23242\ncorrect!\n23243\n23244\ncorrect!\n23245\ncorrect!\n23246\ncorrect!\n23247\ncorrect!\n23248\ncorrect!\n23249\ncorrect!\n23250\ncorrect!\n23251\ncorrect!\n23252\ncorrect!\n23253\ncorrect!\n23254\ncorrect!\n23255\ncorrect!\n23256\n23257\ncorrect!\n23258\ncorrect!\n23259\ncorrect!\n23260\ncorrect!\n23261\n23262\n23263\ncorrect!\n23264\n23265\ncorrect!\n23266\n23267\ncorrect!\n23268\ncorrect!\n23269\ncorrect!\n23270\ncorrect!\n23271\n23272\n23273\n23274\n23275\ncorrect!\n23276\n23277\ncorrect!\n23278\ncorrect!\n23279\ncorrect!\n23280\ncorrect!\n23281\ncorrect!\n23282\ncorrect!\n23283\ncorrect!\n23284\ncorrect!\n23285\ncorrect!\n23286\ncorrect!\n23287\ncorrect!\n23288\ncorrect!\n23289\n23290\ncorrect!\n23291\ncorrect!\n23292\n23293\ncorrect!\n23294\n23295\ncorrect!\n23296\ncorrect!\n23297\ncorrect!\n23298\ncorrect!\n23299\n23300\ncorrect!\n23301\ncorrect!\n23302\ncorrect!\n23303\ncorrect!\n23304\ncorrect!\n23305\n23306\n23307\ncorrect!\n23308\n23309\ncorrect!\n23310\n23311\ncorrect!\n23312\ncorrect!\n23313\ncorrect!\n23314\ncorrect!\n23315\ncorrect!\n23316\ncorrect!\n23317\n23318\ncorrect!\n23319\ncorrect!\n23320\ncorrect!\n23321\ncorrect!\n23322\n23323\ncorrect!\n23324\n23325\ncorrect!\n23326\ncorrect!\n23327\ncorrect!\n23328\ncorrect!\n23329\ncorrect!\n23330\ncorrect!\n23331\ncorrect!\n23332\ncorrect!\n23333\ncorrect!\n23334\ncorrect!\n23335\ncorrect!\n23336\ncorrect!\n23337\ncorrect!\n23338\n23339\ncorrect!\n23340\ncorrect!\n23341\ncorrect!\n23342\n23343\n23344\n23345\ncorrect!\n23346\n23347\ncorrect!\n23348\ncorrect!\n23349\ncorrect!\n23350\ncorrect!\n23351\ncorrect!\n23352\ncorrect!\n23353\ncorrect!\n23354\ncorrect!\n23355\ncorrect!\n23356\n23357\ncorrect!\n23358\ncorrect!\n23359\n23360\ncorrect!\n23361\ncorrect!\n23362\ncorrect!\n23363\ncorrect!\n23364\n23365\n23366\n23367\ncorrect!\n23368\n23369\ncorrect!\n23370\ncorrect!\n23371\n23372\ncorrect!\n23373\ncorrect!\n23374\ncorrect!\n23375\ncorrect!\n23376\ncorrect!\n23377\ncorrect!\n23378\n23379\ncorrect!\n23380\ncorrect!\n23381\ncorrect!\n23382\n23383\n23384\ncorrect!\n23385\ncorrect!\n23386\ncorrect!\n23387\ncorrect!\n23388\n23389\ncorrect!\n23390\ncorrect!\n23391\ncorrect!\n23392\ncorrect!\n23393\n23394\n23395\ncorrect!\n23396\ncorrect!\n23397\ncorrect!\n23398\n23399\ncorrect!\n23400\ncorrect!\n23401\ncorrect!\n23402\n23403\ncorrect!\n23404\ncorrect!\n23405\ncorrect!\n23406\n23407\n23408\ncorrect!\n23409\ncorrect!\n23410\ncorrect!\n23411\n23412\ncorrect!\n23413\n23414\ncorrect!\n23415\ncorrect!\n23416\ncorrect!\n23417\ncorrect!\n23418\ncorrect!\n23419\ncorrect!\n23420\n23421\n23422\n23423\n23424\n23425\n23426\ncorrect!\n23427\ncorrect!\n23428\ncorrect!\n23429\ncorrect!\n23430\ncorrect!\n23431\ncorrect!\n23432\n23433\n23434\ncorrect!\n23435\ncorrect!\n23436\ncorrect!\n23437\ncorrect!\n23438\ncorrect!\n23439\ncorrect!\n23440\ncorrect!\n23441\ncorrect!\n23442\ncorrect!\n23443\n23444\ncorrect!\n23445\ncorrect!\n23446\ncorrect!\n23447\n23448\ncorrect!\n23449\ncorrect!\n23450\ncorrect!\n23451\ncorrect!\n23452\n23453\ncorrect!\n23454\ncorrect!\n23455\ncorrect!\n23456\n23457\ncorrect!\n23458\ncorrect!\n23459\ncorrect!\n23460\n23461\ncorrect!\n23462\ncorrect!\n23463\ncorrect!\n23464\n23465\ncorrect!\n23466\ncorrect!\n23467\ncorrect!\n23468\ncorrect!\n23469\ncorrect!\n23470\ncorrect!\n23471\ncorrect!\n23472\ncorrect!\n23473\ncorrect!\n23474\ncorrect!\n23475\n23476\ncorrect!\n23477\ncorrect!\n23478\ncorrect!\n23479\ncorrect!\n23480\ncorrect!\n23481\ncorrect!\n23482\ncorrect!\n23483\ncorrect!\n23484\ncorrect!\n23485\ncorrect!\n23486\ncorrect!\n23487\ncorrect!\n23488\ncorrect!\n23489\ncorrect!\n23490\ncorrect!\n23491\n23492\ncorrect!\n23493\n23494\n23495\ncorrect!\n23496\n23497\ncorrect!\n23498\ncorrect!\n23499\ncorrect!\n23500\ncorrect!\n23501\ncorrect!\n23502\ncorrect!\n23503\ncorrect!\n23504\ncorrect!\n23505\ncorrect!\n23506\n23507\ncorrect!\n23508\ncorrect!\n23509\ncorrect!\n23510\ncorrect!\n23511\n23512\ncorrect!\n23513\n23514\ncorrect!\n23515\ncorrect!\n23516\n23517\ncorrect!\n23518\n23519\ncorrect!\n23520\ncorrect!\n23521\ncorrect!\n23522\n23523\ncorrect!\n23524\ncorrect!\n23525\ncorrect!\n23526\ncorrect!\n23527\ncorrect!\n23528\ncorrect!\n23529\ncorrect!\n23530\ncorrect!\n23531\ncorrect!\n23532\ncorrect!\n23533\n23534\ncorrect!\n23535\ncorrect!\n23536\ncorrect!\n23537\ncorrect!\n23538\ncorrect!\n23539\ncorrect!\n23540\ncorrect!\n23541\ncorrect!\n23542\ncorrect!\n23543\ncorrect!\n23544\ncorrect!\n23545\ncorrect!\n23546\ncorrect!\n23547\ncorrect!\n23548\ncorrect!\n23549\ncorrect!\n23550\ncorrect!\n23551\ncorrect!\n23552\ncorrect!\n23553\ncorrect!\n23554\n23555\ncorrect!\n23556\ncorrect!\n23557\n23558\n23559\ncorrect!\n23560\n23561\ncorrect!\n23562\n23563\ncorrect!\n23564\ncorrect!\n23565\ncorrect!\n23566\ncorrect!\n23567\ncorrect!\n23568\n23569\ncorrect!\n23570\ncorrect!\n23571\ncorrect!\n23572\ncorrect!\n23573\ncorrect!\n23574\n23575\ncorrect!\n23576\ncorrect!\n23577\ncorrect!\n23578\n23579\n23580\n23581\ncorrect!\n23582\ncorrect!\n23583\ncorrect!\n23584\ncorrect!\n23585\ncorrect!\n23586\ncorrect!\n23587\n23588\ncorrect!\n23589\n23590\ncorrect!\n23591\n23592\ncorrect!\n23593\ncorrect!\n23594\ncorrect!\n23595\ncorrect!\n23596\ncorrect!\n23597\ncorrect!\n23598\n23599\ncorrect!\n23600\n23601\n23602\ncorrect!\n23603\ncorrect!\n23604\ncorrect!\n23605\ncorrect!\n23606\ncorrect!\n23607\ncorrect!\n23608\n23609\ncorrect!\n23610\n23611\ncorrect!\n23612\n23613\ncorrect!\n23614\ncorrect!\n23615\n23616\ncorrect!\n23617\ncorrect!\n23618\n23619\n23620\ncorrect!\n23621\ncorrect!\n23622\ncorrect!\n23623\ncorrect!\n23624\ncorrect!\n23625\ncorrect!\n23626\ncorrect!\n23627\ncorrect!\n23628\ncorrect!\n23629\ncorrect!\n23630\ncorrect!\n23631\ncorrect!\n23632\ncorrect!\n23633\ncorrect!\n23634\n23635\n23636\n23637\ncorrect!\n23638\ncorrect!\n23639\ncorrect!\n23640\ncorrect!\n23641\ncorrect!\n23642\n23643\ncorrect!\n23644\ncorrect!\n23645\ncorrect!\n23646\ncorrect!\n23647\n23648\ncorrect!\n23649\ncorrect!\n23650\n23651\ncorrect!\n23652\ncorrect!\n23653\ncorrect!\n23654\ncorrect!\n23655\ncorrect!\n23656\ncorrect!\n23657\ncorrect!\n23658\ncorrect!\n23659\ncorrect!\n23660\n23661\ncorrect!\n23662\ncorrect!\n23663\n23664\n23665\ncorrect!\n23666\n23667\n23668\ncorrect!\n23669\ncorrect!\n23670\ncorrect!\n23671\n23672\ncorrect!\n23673\ncorrect!\n23674\ncorrect!\n23675\ncorrect!\n23676\ncorrect!\n23677\ncorrect!\n23678\ncorrect!\n23679\n23680\ncorrect!\n23681\ncorrect!\n23682\ncorrect!\n23683\n23684\ncorrect!\n23685\ncorrect!\n23686\ncorrect!\n23687\ncorrect!\n23688\ncorrect!\n23689\ncorrect!\n23690\ncorrect!\n23691\ncorrect!\n23692\ncorrect!\n23693\n23694\ncorrect!\n23695\ncorrect!\n23696\ncorrect!\n23697\ncorrect!\n23698\ncorrect!\n23699\ncorrect!\n23700\ncorrect!\n23701\n23702\n23703\ncorrect!\n23704\ncorrect!\n23705\ncorrect!\n23706\ncorrect!\n23707\ncorrect!\n23708\n17473\naccuracy: 0.7370086046903999\n",
     "output_type": "stream"
    }
   ]
  },
  {
   "cell_type": "code",
   "metadata": {
    "tags": [],
    "cell_id": "00003-3a5ee168-3416-44d0-a41d-2119928f0aa5",
    "deepnote_to_be_reexecuted": false,
    "source_hash": "e61d20eb",
    "execution_start": 1636613911392,
    "execution_millis": 3,
    "deepnote_output_heights": [
     21
    ],
    "deepnote_cell_type": "code"
   },
   "source": "'''\nGoal is to use deepface (and it's parameters) to handle the process of \nclassifing the following:\n    1. Facial detection and skewing\n    2. create facial feature vector\n    3. Race classification\n    4. (currently) classify emotion\nOur next step will be to train our own culturally aware emotion classifier\nby using the outputs of the deepface model (its labels and confidence rating) \n'''\n\n",
   "execution_count": null,
   "outputs": [
    {
     "output_type": "execute_result",
     "execution_count": 2,
     "data": {
      "text/plain": "\"\\nGoal is to use deepface (and it's parameters) to handle the process of \\nclassifing the following:\\n    1. Facial detection and skewing\\n    2. create facial feature vector\\n    3. Race classification\\n    4. (currently) classify emotion\\nOur next step will be to train our own culturally aware emotion classifier\\nby using the outputs of the deepface model (its labels and confidence rating) \\n\""
     },
     "metadata": {}
    }
   ]
  },
  {
   "cell_type": "code",
   "metadata": {
    "tags": [],
    "cell_id": "00002-6a788994-c297-4eb3-8fd1-52f6aacbe4bb",
    "deepnote_to_be_reexecuted": false,
    "source_hash": "b623e53d",
    "execution_start": 1636613911396,
    "execution_millis": 2,
    "deepnote_cell_type": "code"
   },
   "source": "",
   "execution_count": null,
   "outputs": []
  },
  {
   "cell_type": "code",
   "metadata": {
    "tags": [],
    "cell_id": "00003-de859374-5bf9-4be3-b811-63f905fc2aa7",
    "deepnote_to_be_reexecuted": false,
    "source_hash": "5f66e184",
    "execution_start": 1636678560344,
    "execution_millis": 6,
    "deepnote_cell_type": "code"
   },
   "source": "test =  {\n    'white':{\n        'tp':0,\n        'tn':0,\n        'fp':0,\n        'fn':0\n    },\n    'black':{\n        'tp':0,\n        'tn':0,\n        'fp':0,\n        'fn':0\n    }\n}\n\nfor k in test:\n    print(k)\n    print(test[k]['tp'])",
   "execution_count": null,
   "outputs": [
    {
     "name": "stdout",
     "text": "white\n0\nblack\n0\n",
     "output_type": "stream"
    }
   ]
  },
  {
   "cell_type": "markdown",
   "source": "<a style='text-decoration:none;line-height:16px;display:flex;color:#5B5B62;padding:10px;justify-content:end;' href='https://deepnote.com?utm_source=created-in-deepnote-cell&projectId=7994f515-40bb-4330-b195-ec7f31bf201d' target=\"_blank\">\n<img alt='Created in deepnote.com' style='display:inline;max-height:16px;margin:0px;margin-right:7.5px;' src='data:image/svg+xml;base64,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' > </img>\nCreated in <span style='font-weight:600;margin-left:4px;'>Deepnote</span></a>",
   "metadata": {
    "tags": [],
    "created_in_deepnote_cell": true,
    "deepnote_cell_type": "markdown"
   }
  }
 ],
 "nbformat": 4,
 "nbformat_minor": 2,
 "metadata": {
  "orig_nbformat": 2,
  "deepnote": {
   "is_reactive": false
  },
  "deepnote_notebook_id": "875a099a-dcd0-47c9-857f-4a0bb2e798ca",
  "deepnote_execution_queue": []
 }
}